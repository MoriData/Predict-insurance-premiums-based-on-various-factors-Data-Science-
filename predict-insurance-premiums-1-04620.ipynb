{
 "cells": [
  {
   "cell_type": "code",
   "execution_count": 1,
   "id": "9157746e",
   "metadata": {
    "_cell_guid": "b1076dfc-b9ad-4769-8c92-a6c4dae69d19",
    "_uuid": "8f2839f25d086af736a60e9eeb907d3b93b6e0e5",
    "execution": {
     "iopub.execute_input": "2024-12-02T16:47:25.482984Z",
     "iopub.status.busy": "2024-12-02T16:47:25.482594Z",
     "iopub.status.idle": "2024-12-02T16:47:26.511297Z",
     "shell.execute_reply": "2024-12-02T16:47:26.509782Z"
    },
    "papermill": {
     "duration": 1.041382,
     "end_time": "2024-12-02T16:47:26.514039",
     "exception": false,
     "start_time": "2024-12-02T16:47:25.472657",
     "status": "completed"
    },
    "tags": []
   },
   "outputs": [
    {
     "name": "stdout",
     "output_type": "stream",
     "text": [
      "/kaggle/input/playground-series-s4e12/sample_submission.csv\n",
      "/kaggle/input/playground-series-s4e12/train.csv\n",
      "/kaggle/input/playground-series-s4e12/test.csv\n"
     ]
    }
   ],
   "source": [
    "# This Python 3 environment comes with many helpful analytics libraries installed\n",
    "# It is defined by the kaggle/python Docker image: https://github.com/kaggle/docker-python\n",
    "# For example, here's several helpful packages to load\n",
    "\n",
    "import numpy as np # linear algebra\n",
    "import pandas as pd # data processing, CSV file I/O (e.g. pd.read_csv)\n",
    "\n",
    "# Input data files are available in the read-only \"../input/\" directory\n",
    "# For example, running this (by clicking run or pressing Shift+Enter) will list all files under the input directory\n",
    "\n",
    "import os\n",
    "for dirname, _, filenames in os.walk('/kaggle/input'):\n",
    "    for filename in filenames:\n",
    "        print(os.path.join(dirname, filename))\n",
    "\n",
    "# You can write up to 20GB to the current directory (/kaggle/working/) that gets preserved as output when you create a version using \"Save & Run All\" \n",
    "# You can also write temporary files to /kaggle/temp/, but they won't be saved outside of the current session"
   ]
  },
  {
   "cell_type": "markdown",
   "id": "e2ef4fd7",
   "metadata": {
    "papermill": {
     "duration": 0.006845,
     "end_time": "2024-12-02T16:47:26.528700",
     "exception": false,
     "start_time": "2024-12-02T16:47:26.521855",
     "status": "completed"
    },
    "tags": []
   },
   "source": [
    "# Import Libraries "
   ]
  },
  {
   "cell_type": "code",
   "execution_count": 2,
   "id": "62f068b7",
   "metadata": {
    "execution": {
     "iopub.execute_input": "2024-12-02T16:47:26.546343Z",
     "iopub.status.busy": "2024-12-02T16:47:26.544373Z",
     "iopub.status.idle": "2024-12-02T16:47:26.551345Z",
     "shell.execute_reply": "2024-12-02T16:47:26.550115Z"
    },
    "papermill": {
     "duration": 0.017916,
     "end_time": "2024-12-02T16:47:26.553634",
     "exception": false,
     "start_time": "2024-12-02T16:47:26.535718",
     "status": "completed"
    },
    "tags": []
   },
   "outputs": [],
   "source": [
    "import pandas as pd\n",
    "import numpy as np\n",
    "\n",
    "import warnings\n",
    "\n",
    "warnings.filterwarnings('ignore')"
   ]
  },
  {
   "cell_type": "markdown",
   "id": "16ad1bd5",
   "metadata": {
    "papermill": {
     "duration": 0.007653,
     "end_time": "2024-12-02T16:47:26.568395",
     "exception": false,
     "start_time": "2024-12-02T16:47:26.560742",
     "status": "completed"
    },
    "tags": []
   },
   "source": [
    "# Load Data"
   ]
  },
  {
   "cell_type": "code",
   "execution_count": 3,
   "id": "9e9142b6",
   "metadata": {
    "execution": {
     "iopub.execute_input": "2024-12-02T16:47:26.583974Z",
     "iopub.status.busy": "2024-12-02T16:47:26.583451Z",
     "iopub.status.idle": "2024-12-02T16:47:39.858787Z",
     "shell.execute_reply": "2024-12-02T16:47:39.857222Z"
    },
    "papermill": {
     "duration": 13.286366,
     "end_time": "2024-12-02T16:47:39.861563",
     "exception": false,
     "start_time": "2024-12-02T16:47:26.575197",
     "status": "completed"
    },
    "tags": []
   },
   "outputs": [],
   "source": [
    "train_data = pd.read_csv('/kaggle/input/playground-series-s4e12/train.csv')\n",
    "test_data  = pd.read_csv('/kaggle/input/playground-series-s4e12/test.csv')"
   ]
  },
  {
   "cell_type": "code",
   "execution_count": 4,
   "id": "3abdb4bc",
   "metadata": {
    "execution": {
     "iopub.execute_input": "2024-12-02T16:47:39.878216Z",
     "iopub.status.busy": "2024-12-02T16:47:39.877774Z",
     "iopub.status.idle": "2024-12-02T16:47:42.282498Z",
     "shell.execute_reply": "2024-12-02T16:47:42.281146Z"
    },
    "papermill": {
     "duration": 2.416106,
     "end_time": "2024-12-02T16:47:42.285301",
     "exception": false,
     "start_time": "2024-12-02T16:47:39.869195",
     "status": "completed"
    },
    "tags": []
   },
   "outputs": [],
   "source": [
    "# Add an indicator column\n",
    "train_data['Dataset'] = 'train'\n",
    "test_data['Dataset'] = 'test'\n",
    "\n",
    "# Concatenate train and test\n",
    "df = pd.concat([train_data, test_data], axis=0).reset_index(drop=True)"
   ]
  },
  {
   "cell_type": "markdown",
   "id": "3edb71f8",
   "metadata": {
    "papermill": {
     "duration": 0.006968,
     "end_time": "2024-12-02T16:47:42.300463",
     "exception": false,
     "start_time": "2024-12-02T16:47:42.293495",
     "status": "completed"
    },
    "tags": []
   },
   "source": [
    "# 1. Exploratory Data Analysis (EDA)"
   ]
  },
  {
   "cell_type": "markdown",
   "id": "5bf14e06",
   "metadata": {
    "papermill": {
     "duration": 0.006592,
     "end_time": "2024-12-02T16:47:42.314181",
     "exception": false,
     "start_time": "2024-12-02T16:47:42.307589",
     "status": "completed"
    },
    "tags": []
   },
   "source": [
    "## 1.1: Load and Understand the Dataset"
   ]
  },
  {
   "cell_type": "code",
   "execution_count": 5,
   "id": "5776690b",
   "metadata": {
    "execution": {
     "iopub.execute_input": "2024-12-02T16:47:42.330530Z",
     "iopub.status.busy": "2024-12-02T16:47:42.330080Z",
     "iopub.status.idle": "2024-12-02T16:47:43.852768Z",
     "shell.execute_reply": "2024-12-02T16:47:43.851467Z"
    },
    "papermill": {
     "duration": 1.53438,
     "end_time": "2024-12-02T16:47:43.855797",
     "exception": false,
     "start_time": "2024-12-02T16:47:42.321417",
     "status": "completed"
    },
    "tags": []
   },
   "outputs": [
    {
     "data": {
      "text/html": [
       "<div>\n",
       "<style scoped>\n",
       "    .dataframe tbody tr th:only-of-type {\n",
       "        vertical-align: middle;\n",
       "    }\n",
       "\n",
       "    .dataframe tbody tr th {\n",
       "        vertical-align: top;\n",
       "    }\n",
       "\n",
       "    .dataframe thead th {\n",
       "        text-align: right;\n",
       "    }\n",
       "</style>\n",
       "<table border=\"1\" class=\"dataframe\">\n",
       "  <thead>\n",
       "    <tr style=\"text-align: right;\">\n",
       "      <th></th>\n",
       "      <th>id</th>\n",
       "      <th>Age</th>\n",
       "      <th>Gender</th>\n",
       "      <th>Annual Income</th>\n",
       "      <th>Marital Status</th>\n",
       "      <th>Number of Dependents</th>\n",
       "      <th>Education Level</th>\n",
       "      <th>Occupation</th>\n",
       "      <th>Health Score</th>\n",
       "      <th>Location</th>\n",
       "      <th>...</th>\n",
       "      <th>Vehicle Age</th>\n",
       "      <th>Credit Score</th>\n",
       "      <th>Insurance Duration</th>\n",
       "      <th>Policy Start Date</th>\n",
       "      <th>Customer Feedback</th>\n",
       "      <th>Smoking Status</th>\n",
       "      <th>Exercise Frequency</th>\n",
       "      <th>Property Type</th>\n",
       "      <th>Premium Amount</th>\n",
       "      <th>Dataset</th>\n",
       "    </tr>\n",
       "  </thead>\n",
       "  <tbody>\n",
       "    <tr>\n",
       "      <th>0</th>\n",
       "      <td>0</td>\n",
       "      <td>19.0</td>\n",
       "      <td>Female</td>\n",
       "      <td>10049.0</td>\n",
       "      <td>Married</td>\n",
       "      <td>1.0</td>\n",
       "      <td>Bachelor's</td>\n",
       "      <td>Self-Employed</td>\n",
       "      <td>22.598761</td>\n",
       "      <td>Urban</td>\n",
       "      <td>...</td>\n",
       "      <td>17.0</td>\n",
       "      <td>372.0</td>\n",
       "      <td>5.0</td>\n",
       "      <td>2023-12-23 15:21:39.134960</td>\n",
       "      <td>Poor</td>\n",
       "      <td>No</td>\n",
       "      <td>Weekly</td>\n",
       "      <td>House</td>\n",
       "      <td>2869.0</td>\n",
       "      <td>train</td>\n",
       "    </tr>\n",
       "    <tr>\n",
       "      <th>1</th>\n",
       "      <td>1</td>\n",
       "      <td>39.0</td>\n",
       "      <td>Female</td>\n",
       "      <td>31678.0</td>\n",
       "      <td>Divorced</td>\n",
       "      <td>3.0</td>\n",
       "      <td>Master's</td>\n",
       "      <td>NaN</td>\n",
       "      <td>15.569731</td>\n",
       "      <td>Rural</td>\n",
       "      <td>...</td>\n",
       "      <td>12.0</td>\n",
       "      <td>694.0</td>\n",
       "      <td>2.0</td>\n",
       "      <td>2023-06-12 15:21:39.111551</td>\n",
       "      <td>Average</td>\n",
       "      <td>Yes</td>\n",
       "      <td>Monthly</td>\n",
       "      <td>House</td>\n",
       "      <td>1483.0</td>\n",
       "      <td>train</td>\n",
       "    </tr>\n",
       "    <tr>\n",
       "      <th>2</th>\n",
       "      <td>2</td>\n",
       "      <td>23.0</td>\n",
       "      <td>Male</td>\n",
       "      <td>25602.0</td>\n",
       "      <td>Divorced</td>\n",
       "      <td>3.0</td>\n",
       "      <td>High School</td>\n",
       "      <td>Self-Employed</td>\n",
       "      <td>47.177549</td>\n",
       "      <td>Suburban</td>\n",
       "      <td>...</td>\n",
       "      <td>14.0</td>\n",
       "      <td>NaN</td>\n",
       "      <td>3.0</td>\n",
       "      <td>2023-09-30 15:21:39.221386</td>\n",
       "      <td>Good</td>\n",
       "      <td>Yes</td>\n",
       "      <td>Weekly</td>\n",
       "      <td>House</td>\n",
       "      <td>567.0</td>\n",
       "      <td>train</td>\n",
       "    </tr>\n",
       "    <tr>\n",
       "      <th>3</th>\n",
       "      <td>3</td>\n",
       "      <td>21.0</td>\n",
       "      <td>Male</td>\n",
       "      <td>141855.0</td>\n",
       "      <td>Married</td>\n",
       "      <td>2.0</td>\n",
       "      <td>Bachelor's</td>\n",
       "      <td>NaN</td>\n",
       "      <td>10.938144</td>\n",
       "      <td>Rural</td>\n",
       "      <td>...</td>\n",
       "      <td>0.0</td>\n",
       "      <td>367.0</td>\n",
       "      <td>1.0</td>\n",
       "      <td>2024-06-12 15:21:39.226954</td>\n",
       "      <td>Poor</td>\n",
       "      <td>Yes</td>\n",
       "      <td>Daily</td>\n",
       "      <td>Apartment</td>\n",
       "      <td>765.0</td>\n",
       "      <td>train</td>\n",
       "    </tr>\n",
       "    <tr>\n",
       "      <th>4</th>\n",
       "      <td>4</td>\n",
       "      <td>21.0</td>\n",
       "      <td>Male</td>\n",
       "      <td>39651.0</td>\n",
       "      <td>Single</td>\n",
       "      <td>1.0</td>\n",
       "      <td>Bachelor's</td>\n",
       "      <td>Self-Employed</td>\n",
       "      <td>20.376094</td>\n",
       "      <td>Rural</td>\n",
       "      <td>...</td>\n",
       "      <td>8.0</td>\n",
       "      <td>598.0</td>\n",
       "      <td>4.0</td>\n",
       "      <td>2021-12-01 15:21:39.252145</td>\n",
       "      <td>Poor</td>\n",
       "      <td>Yes</td>\n",
       "      <td>Weekly</td>\n",
       "      <td>House</td>\n",
       "      <td>2022.0</td>\n",
       "      <td>train</td>\n",
       "    </tr>\n",
       "    <tr>\n",
       "      <th>...</th>\n",
       "      <td>...</td>\n",
       "      <td>...</td>\n",
       "      <td>...</td>\n",
       "      <td>...</td>\n",
       "      <td>...</td>\n",
       "      <td>...</td>\n",
       "      <td>...</td>\n",
       "      <td>...</td>\n",
       "      <td>...</td>\n",
       "      <td>...</td>\n",
       "      <td>...</td>\n",
       "      <td>...</td>\n",
       "      <td>...</td>\n",
       "      <td>...</td>\n",
       "      <td>...</td>\n",
       "      <td>...</td>\n",
       "      <td>...</td>\n",
       "      <td>...</td>\n",
       "      <td>...</td>\n",
       "      <td>...</td>\n",
       "      <td>...</td>\n",
       "    </tr>\n",
       "    <tr>\n",
       "      <th>1199995</th>\n",
       "      <td>1199995</td>\n",
       "      <td>36.0</td>\n",
       "      <td>Female</td>\n",
       "      <td>27316.0</td>\n",
       "      <td>Married</td>\n",
       "      <td>0.0</td>\n",
       "      <td>Master's</td>\n",
       "      <td>Unemployed</td>\n",
       "      <td>13.772907</td>\n",
       "      <td>Urban</td>\n",
       "      <td>...</td>\n",
       "      <td>5.0</td>\n",
       "      <td>372.0</td>\n",
       "      <td>3.0</td>\n",
       "      <td>2023-05-03 15:21:39.257696</td>\n",
       "      <td>Poor</td>\n",
       "      <td>No</td>\n",
       "      <td>Daily</td>\n",
       "      <td>Apartment</td>\n",
       "      <td>1303.0</td>\n",
       "      <td>train</td>\n",
       "    </tr>\n",
       "    <tr>\n",
       "      <th>1199996</th>\n",
       "      <td>1199996</td>\n",
       "      <td>54.0</td>\n",
       "      <td>Male</td>\n",
       "      <td>35786.0</td>\n",
       "      <td>Divorced</td>\n",
       "      <td>NaN</td>\n",
       "      <td>Master's</td>\n",
       "      <td>Self-Employed</td>\n",
       "      <td>11.483482</td>\n",
       "      <td>Rural</td>\n",
       "      <td>...</td>\n",
       "      <td>10.0</td>\n",
       "      <td>597.0</td>\n",
       "      <td>4.0</td>\n",
       "      <td>2022-09-10 15:21:39.134960</td>\n",
       "      <td>Poor</td>\n",
       "      <td>No</td>\n",
       "      <td>Weekly</td>\n",
       "      <td>Apartment</td>\n",
       "      <td>821.0</td>\n",
       "      <td>train</td>\n",
       "    </tr>\n",
       "    <tr>\n",
       "      <th>1199997</th>\n",
       "      <td>1199997</td>\n",
       "      <td>19.0</td>\n",
       "      <td>Male</td>\n",
       "      <td>51884.0</td>\n",
       "      <td>Divorced</td>\n",
       "      <td>0.0</td>\n",
       "      <td>Master's</td>\n",
       "      <td>NaN</td>\n",
       "      <td>14.724469</td>\n",
       "      <td>Suburban</td>\n",
       "      <td>...</td>\n",
       "      <td>19.0</td>\n",
       "      <td>NaN</td>\n",
       "      <td>6.0</td>\n",
       "      <td>2021-05-25 15:21:39.106582</td>\n",
       "      <td>Good</td>\n",
       "      <td>No</td>\n",
       "      <td>Monthly</td>\n",
       "      <td>Condo</td>\n",
       "      <td>371.0</td>\n",
       "      <td>train</td>\n",
       "    </tr>\n",
       "    <tr>\n",
       "      <th>1199998</th>\n",
       "      <td>1199998</td>\n",
       "      <td>55.0</td>\n",
       "      <td>Male</td>\n",
       "      <td>NaN</td>\n",
       "      <td>Single</td>\n",
       "      <td>1.0</td>\n",
       "      <td>PhD</td>\n",
       "      <td>NaN</td>\n",
       "      <td>18.547381</td>\n",
       "      <td>Suburban</td>\n",
       "      <td>...</td>\n",
       "      <td>7.0</td>\n",
       "      <td>407.0</td>\n",
       "      <td>4.0</td>\n",
       "      <td>2021-09-19 15:21:39.190215</td>\n",
       "      <td>Poor</td>\n",
       "      <td>No</td>\n",
       "      <td>Daily</td>\n",
       "      <td>Apartment</td>\n",
       "      <td>596.0</td>\n",
       "      <td>train</td>\n",
       "    </tr>\n",
       "    <tr>\n",
       "      <th>1199999</th>\n",
       "      <td>1199999</td>\n",
       "      <td>21.0</td>\n",
       "      <td>Female</td>\n",
       "      <td>NaN</td>\n",
       "      <td>Divorced</td>\n",
       "      <td>0.0</td>\n",
       "      <td>PhD</td>\n",
       "      <td>NaN</td>\n",
       "      <td>10.125323</td>\n",
       "      <td>Rural</td>\n",
       "      <td>...</td>\n",
       "      <td>18.0</td>\n",
       "      <td>502.0</td>\n",
       "      <td>6.0</td>\n",
       "      <td>2020-08-26 15:21:39.155231</td>\n",
       "      <td>Good</td>\n",
       "      <td>Yes</td>\n",
       "      <td>Monthly</td>\n",
       "      <td>House</td>\n",
       "      <td>2480.0</td>\n",
       "      <td>train</td>\n",
       "    </tr>\n",
       "  </tbody>\n",
       "</table>\n",
       "<p>1200000 rows × 22 columns</p>\n",
       "</div>"
      ],
      "text/plain": [
       "              id   Age  Gender  Annual Income Marital Status  \\\n",
       "0              0  19.0  Female        10049.0        Married   \n",
       "1              1  39.0  Female        31678.0       Divorced   \n",
       "2              2  23.0    Male        25602.0       Divorced   \n",
       "3              3  21.0    Male       141855.0        Married   \n",
       "4              4  21.0    Male        39651.0         Single   \n",
       "...          ...   ...     ...            ...            ...   \n",
       "1199995  1199995  36.0  Female        27316.0        Married   \n",
       "1199996  1199996  54.0    Male        35786.0       Divorced   \n",
       "1199997  1199997  19.0    Male        51884.0       Divorced   \n",
       "1199998  1199998  55.0    Male            NaN         Single   \n",
       "1199999  1199999  21.0  Female            NaN       Divorced   \n",
       "\n",
       "         Number of Dependents Education Level     Occupation  Health Score  \\\n",
       "0                         1.0      Bachelor's  Self-Employed     22.598761   \n",
       "1                         3.0        Master's            NaN     15.569731   \n",
       "2                         3.0     High School  Self-Employed     47.177549   \n",
       "3                         2.0      Bachelor's            NaN     10.938144   \n",
       "4                         1.0      Bachelor's  Self-Employed     20.376094   \n",
       "...                       ...             ...            ...           ...   \n",
       "1199995                   0.0        Master's     Unemployed     13.772907   \n",
       "1199996                   NaN        Master's  Self-Employed     11.483482   \n",
       "1199997                   0.0        Master's            NaN     14.724469   \n",
       "1199998                   1.0             PhD            NaN     18.547381   \n",
       "1199999                   0.0             PhD            NaN     10.125323   \n",
       "\n",
       "         Location  ... Vehicle Age  Credit Score  Insurance Duration  \\\n",
       "0           Urban  ...        17.0         372.0                 5.0   \n",
       "1           Rural  ...        12.0         694.0                 2.0   \n",
       "2        Suburban  ...        14.0           NaN                 3.0   \n",
       "3           Rural  ...         0.0         367.0                 1.0   \n",
       "4           Rural  ...         8.0         598.0                 4.0   \n",
       "...           ...  ...         ...           ...                 ...   \n",
       "1199995     Urban  ...         5.0         372.0                 3.0   \n",
       "1199996     Rural  ...        10.0         597.0                 4.0   \n",
       "1199997  Suburban  ...        19.0           NaN                 6.0   \n",
       "1199998  Suburban  ...         7.0         407.0                 4.0   \n",
       "1199999     Rural  ...        18.0         502.0                 6.0   \n",
       "\n",
       "                  Policy Start Date  Customer Feedback Smoking Status  \\\n",
       "0        2023-12-23 15:21:39.134960               Poor             No   \n",
       "1        2023-06-12 15:21:39.111551            Average            Yes   \n",
       "2        2023-09-30 15:21:39.221386               Good            Yes   \n",
       "3        2024-06-12 15:21:39.226954               Poor            Yes   \n",
       "4        2021-12-01 15:21:39.252145               Poor            Yes   \n",
       "...                             ...                ...            ...   \n",
       "1199995  2023-05-03 15:21:39.257696               Poor             No   \n",
       "1199996  2022-09-10 15:21:39.134960               Poor             No   \n",
       "1199997  2021-05-25 15:21:39.106582               Good             No   \n",
       "1199998  2021-09-19 15:21:39.190215               Poor             No   \n",
       "1199999  2020-08-26 15:21:39.155231               Good            Yes   \n",
       "\n",
       "        Exercise Frequency Property Type Premium Amount Dataset  \n",
       "0                   Weekly         House         2869.0   train  \n",
       "1                  Monthly         House         1483.0   train  \n",
       "2                   Weekly         House          567.0   train  \n",
       "3                    Daily     Apartment          765.0   train  \n",
       "4                   Weekly         House         2022.0   train  \n",
       "...                    ...           ...            ...     ...  \n",
       "1199995              Daily     Apartment         1303.0   train  \n",
       "1199996             Weekly     Apartment          821.0   train  \n",
       "1199997            Monthly         Condo          371.0   train  \n",
       "1199998              Daily     Apartment          596.0   train  \n",
       "1199999            Monthly         House         2480.0   train  \n",
       "\n",
       "[1200000 rows x 22 columns]"
      ]
     },
     "execution_count": 5,
     "metadata": {},
     "output_type": "execute_result"
    }
   ],
   "source": [
    "train_data"
   ]
  },
  {
   "cell_type": "code",
   "execution_count": 6,
   "id": "805d7f1b",
   "metadata": {
    "execution": {
     "iopub.execute_input": "2024-12-02T16:47:43.874487Z",
     "iopub.status.busy": "2024-12-02T16:47:43.874053Z",
     "iopub.status.idle": "2024-12-02T16:47:43.882196Z",
     "shell.execute_reply": "2024-12-02T16:47:43.880911Z"
    },
    "papermill": {
     "duration": 0.019447,
     "end_time": "2024-12-02T16:47:43.884374",
     "exception": false,
     "start_time": "2024-12-02T16:47:43.864927",
     "status": "completed"
    },
    "tags": []
   },
   "outputs": [
    {
     "data": {
      "text/plain": [
       "Index(['id', 'Age', 'Gender', 'Annual Income', 'Marital Status',\n",
       "       'Number of Dependents', 'Education Level', 'Occupation', 'Health Score',\n",
       "       'Location', 'Policy Type', 'Previous Claims', 'Vehicle Age',\n",
       "       'Credit Score', 'Insurance Duration', 'Policy Start Date',\n",
       "       'Customer Feedback', 'Smoking Status', 'Exercise Frequency',\n",
       "       'Property Type', 'Premium Amount', 'Dataset'],\n",
       "      dtype='object')"
      ]
     },
     "execution_count": 6,
     "metadata": {},
     "output_type": "execute_result"
    }
   ],
   "source": [
    "train_data.columns"
   ]
  },
  {
   "cell_type": "code",
   "execution_count": 7,
   "id": "a95b21e2",
   "metadata": {
    "execution": {
     "iopub.execute_input": "2024-12-02T16:47:43.901860Z",
     "iopub.status.busy": "2024-12-02T16:47:43.901440Z",
     "iopub.status.idle": "2024-12-02T16:47:44.701994Z",
     "shell.execute_reply": "2024-12-02T16:47:44.700710Z"
    },
    "papermill": {
     "duration": 0.812439,
     "end_time": "2024-12-02T16:47:44.704648",
     "exception": false,
     "start_time": "2024-12-02T16:47:43.892209",
     "status": "completed"
    },
    "tags": []
   },
   "outputs": [
    {
     "data": {
      "text/html": [
       "<div>\n",
       "<style scoped>\n",
       "    .dataframe tbody tr th:only-of-type {\n",
       "        vertical-align: middle;\n",
       "    }\n",
       "\n",
       "    .dataframe tbody tr th {\n",
       "        vertical-align: top;\n",
       "    }\n",
       "\n",
       "    .dataframe thead th {\n",
       "        text-align: right;\n",
       "    }\n",
       "</style>\n",
       "<table border=\"1\" class=\"dataframe\">\n",
       "  <thead>\n",
       "    <tr style=\"text-align: right;\">\n",
       "      <th></th>\n",
       "      <th>id</th>\n",
       "      <th>Age</th>\n",
       "      <th>Gender</th>\n",
       "      <th>Annual Income</th>\n",
       "      <th>Marital Status</th>\n",
       "      <th>Number of Dependents</th>\n",
       "      <th>Education Level</th>\n",
       "      <th>Occupation</th>\n",
       "      <th>Health Score</th>\n",
       "      <th>Location</th>\n",
       "      <th>...</th>\n",
       "      <th>Previous Claims</th>\n",
       "      <th>Vehicle Age</th>\n",
       "      <th>Credit Score</th>\n",
       "      <th>Insurance Duration</th>\n",
       "      <th>Policy Start Date</th>\n",
       "      <th>Customer Feedback</th>\n",
       "      <th>Smoking Status</th>\n",
       "      <th>Exercise Frequency</th>\n",
       "      <th>Property Type</th>\n",
       "      <th>Dataset</th>\n",
       "    </tr>\n",
       "  </thead>\n",
       "  <tbody>\n",
       "    <tr>\n",
       "      <th>0</th>\n",
       "      <td>1200000</td>\n",
       "      <td>28.0</td>\n",
       "      <td>Female</td>\n",
       "      <td>2310.0</td>\n",
       "      <td>NaN</td>\n",
       "      <td>4.0</td>\n",
       "      <td>Bachelor's</td>\n",
       "      <td>Self-Employed</td>\n",
       "      <td>7.657981</td>\n",
       "      <td>Rural</td>\n",
       "      <td>...</td>\n",
       "      <td>NaN</td>\n",
       "      <td>19.0</td>\n",
       "      <td>NaN</td>\n",
       "      <td>1.0</td>\n",
       "      <td>2023-06-04 15:21:39.245086</td>\n",
       "      <td>Poor</td>\n",
       "      <td>Yes</td>\n",
       "      <td>Weekly</td>\n",
       "      <td>House</td>\n",
       "      <td>test</td>\n",
       "    </tr>\n",
       "    <tr>\n",
       "      <th>1</th>\n",
       "      <td>1200001</td>\n",
       "      <td>31.0</td>\n",
       "      <td>Female</td>\n",
       "      <td>126031.0</td>\n",
       "      <td>Married</td>\n",
       "      <td>2.0</td>\n",
       "      <td>Master's</td>\n",
       "      <td>Self-Employed</td>\n",
       "      <td>13.381379</td>\n",
       "      <td>Suburban</td>\n",
       "      <td>...</td>\n",
       "      <td>NaN</td>\n",
       "      <td>14.0</td>\n",
       "      <td>372.0</td>\n",
       "      <td>8.0</td>\n",
       "      <td>2024-04-22 15:21:39.224915</td>\n",
       "      <td>Good</td>\n",
       "      <td>Yes</td>\n",
       "      <td>Rarely</td>\n",
       "      <td>Apartment</td>\n",
       "      <td>test</td>\n",
       "    </tr>\n",
       "    <tr>\n",
       "      <th>2</th>\n",
       "      <td>1200002</td>\n",
       "      <td>47.0</td>\n",
       "      <td>Female</td>\n",
       "      <td>17092.0</td>\n",
       "      <td>Divorced</td>\n",
       "      <td>0.0</td>\n",
       "      <td>PhD</td>\n",
       "      <td>Unemployed</td>\n",
       "      <td>24.354527</td>\n",
       "      <td>Urban</td>\n",
       "      <td>...</td>\n",
       "      <td>NaN</td>\n",
       "      <td>16.0</td>\n",
       "      <td>819.0</td>\n",
       "      <td>9.0</td>\n",
       "      <td>2023-04-05 15:21:39.134960</td>\n",
       "      <td>Average</td>\n",
       "      <td>Yes</td>\n",
       "      <td>Monthly</td>\n",
       "      <td>Condo</td>\n",
       "      <td>test</td>\n",
       "    </tr>\n",
       "    <tr>\n",
       "      <th>3</th>\n",
       "      <td>1200003</td>\n",
       "      <td>28.0</td>\n",
       "      <td>Female</td>\n",
       "      <td>30424.0</td>\n",
       "      <td>Divorced</td>\n",
       "      <td>3.0</td>\n",
       "      <td>PhD</td>\n",
       "      <td>Self-Employed</td>\n",
       "      <td>5.136225</td>\n",
       "      <td>Suburban</td>\n",
       "      <td>...</td>\n",
       "      <td>1.0</td>\n",
       "      <td>3.0</td>\n",
       "      <td>770.0</td>\n",
       "      <td>5.0</td>\n",
       "      <td>2023-10-25 15:21:39.134960</td>\n",
       "      <td>Poor</td>\n",
       "      <td>Yes</td>\n",
       "      <td>Daily</td>\n",
       "      <td>House</td>\n",
       "      <td>test</td>\n",
       "    </tr>\n",
       "    <tr>\n",
       "      <th>4</th>\n",
       "      <td>1200004</td>\n",
       "      <td>24.0</td>\n",
       "      <td>Male</td>\n",
       "      <td>10863.0</td>\n",
       "      <td>Divorced</td>\n",
       "      <td>2.0</td>\n",
       "      <td>High School</td>\n",
       "      <td>Unemployed</td>\n",
       "      <td>11.844155</td>\n",
       "      <td>Suburban</td>\n",
       "      <td>...</td>\n",
       "      <td>NaN</td>\n",
       "      <td>14.0</td>\n",
       "      <td>755.0</td>\n",
       "      <td>7.0</td>\n",
       "      <td>2021-11-26 15:21:39.259788</td>\n",
       "      <td>Average</td>\n",
       "      <td>No</td>\n",
       "      <td>Weekly</td>\n",
       "      <td>House</td>\n",
       "      <td>test</td>\n",
       "    </tr>\n",
       "    <tr>\n",
       "      <th>...</th>\n",
       "      <td>...</td>\n",
       "      <td>...</td>\n",
       "      <td>...</td>\n",
       "      <td>...</td>\n",
       "      <td>...</td>\n",
       "      <td>...</td>\n",
       "      <td>...</td>\n",
       "      <td>...</td>\n",
       "      <td>...</td>\n",
       "      <td>...</td>\n",
       "      <td>...</td>\n",
       "      <td>...</td>\n",
       "      <td>...</td>\n",
       "      <td>...</td>\n",
       "      <td>...</td>\n",
       "      <td>...</td>\n",
       "      <td>...</td>\n",
       "      <td>...</td>\n",
       "      <td>...</td>\n",
       "      <td>...</td>\n",
       "      <td>...</td>\n",
       "    </tr>\n",
       "    <tr>\n",
       "      <th>799995</th>\n",
       "      <td>1999995</td>\n",
       "      <td>50.0</td>\n",
       "      <td>Female</td>\n",
       "      <td>38782.0</td>\n",
       "      <td>Married</td>\n",
       "      <td>1.0</td>\n",
       "      <td>Bachelor's</td>\n",
       "      <td>NaN</td>\n",
       "      <td>14.498639</td>\n",
       "      <td>Rural</td>\n",
       "      <td>...</td>\n",
       "      <td>NaN</td>\n",
       "      <td>8.0</td>\n",
       "      <td>309.0</td>\n",
       "      <td>2.0</td>\n",
       "      <td>2021-07-09 15:21:39.184157</td>\n",
       "      <td>Average</td>\n",
       "      <td>Yes</td>\n",
       "      <td>Daily</td>\n",
       "      <td>Condo</td>\n",
       "      <td>test</td>\n",
       "    </tr>\n",
       "    <tr>\n",
       "      <th>799996</th>\n",
       "      <td>1999996</td>\n",
       "      <td>NaN</td>\n",
       "      <td>Female</td>\n",
       "      <td>73462.0</td>\n",
       "      <td>Single</td>\n",
       "      <td>0.0</td>\n",
       "      <td>Master's</td>\n",
       "      <td>NaN</td>\n",
       "      <td>8.145748</td>\n",
       "      <td>Rural</td>\n",
       "      <td>...</td>\n",
       "      <td>2.0</td>\n",
       "      <td>0.0</td>\n",
       "      <td>NaN</td>\n",
       "      <td>2.0</td>\n",
       "      <td>2023-03-28 15:21:39.250151</td>\n",
       "      <td>Good</td>\n",
       "      <td>No</td>\n",
       "      <td>Daily</td>\n",
       "      <td>Apartment</td>\n",
       "      <td>test</td>\n",
       "    </tr>\n",
       "    <tr>\n",
       "      <th>799997</th>\n",
       "      <td>1999997</td>\n",
       "      <td>26.0</td>\n",
       "      <td>Female</td>\n",
       "      <td>35178.0</td>\n",
       "      <td>Single</td>\n",
       "      <td>0.0</td>\n",
       "      <td>Master's</td>\n",
       "      <td>Employed</td>\n",
       "      <td>6.636583</td>\n",
       "      <td>Urban</td>\n",
       "      <td>...</td>\n",
       "      <td>NaN</td>\n",
       "      <td>10.0</td>\n",
       "      <td>NaN</td>\n",
       "      <td>6.0</td>\n",
       "      <td>2019-09-30 15:21:39.132191</td>\n",
       "      <td>Poor</td>\n",
       "      <td>No</td>\n",
       "      <td>Monthly</td>\n",
       "      <td>Apartment</td>\n",
       "      <td>test</td>\n",
       "    </tr>\n",
       "    <tr>\n",
       "      <th>799998</th>\n",
       "      <td>1999998</td>\n",
       "      <td>34.0</td>\n",
       "      <td>Female</td>\n",
       "      <td>45661.0</td>\n",
       "      <td>Single</td>\n",
       "      <td>3.0</td>\n",
       "      <td>Master's</td>\n",
       "      <td>NaN</td>\n",
       "      <td>15.937248</td>\n",
       "      <td>Urban</td>\n",
       "      <td>...</td>\n",
       "      <td>2.0</td>\n",
       "      <td>17.0</td>\n",
       "      <td>467.0</td>\n",
       "      <td>7.0</td>\n",
       "      <td>2022-05-09 15:21:39.253660</td>\n",
       "      <td>Average</td>\n",
       "      <td>No</td>\n",
       "      <td>Weekly</td>\n",
       "      <td>Condo</td>\n",
       "      <td>test</td>\n",
       "    </tr>\n",
       "    <tr>\n",
       "      <th>799999</th>\n",
       "      <td>1999999</td>\n",
       "      <td>25.0</td>\n",
       "      <td>Male</td>\n",
       "      <td>24843.0</td>\n",
       "      <td>Divorced</td>\n",
       "      <td>3.0</td>\n",
       "      <td>High School</td>\n",
       "      <td>NaN</td>\n",
       "      <td>24.893939</td>\n",
       "      <td>Suburban</td>\n",
       "      <td>...</td>\n",
       "      <td>NaN</td>\n",
       "      <td>15.0</td>\n",
       "      <td>NaN</td>\n",
       "      <td>8.0</td>\n",
       "      <td>2021-05-18 15:21:39.108562</td>\n",
       "      <td>Good</td>\n",
       "      <td>No</td>\n",
       "      <td>Rarely</td>\n",
       "      <td>House</td>\n",
       "      <td>test</td>\n",
       "    </tr>\n",
       "  </tbody>\n",
       "</table>\n",
       "<p>800000 rows × 21 columns</p>\n",
       "</div>"
      ],
      "text/plain": [
       "             id   Age  Gender  Annual Income Marital Status  \\\n",
       "0       1200000  28.0  Female         2310.0            NaN   \n",
       "1       1200001  31.0  Female       126031.0        Married   \n",
       "2       1200002  47.0  Female        17092.0       Divorced   \n",
       "3       1200003  28.0  Female        30424.0       Divorced   \n",
       "4       1200004  24.0    Male        10863.0       Divorced   \n",
       "...         ...   ...     ...            ...            ...   \n",
       "799995  1999995  50.0  Female        38782.0        Married   \n",
       "799996  1999996   NaN  Female        73462.0         Single   \n",
       "799997  1999997  26.0  Female        35178.0         Single   \n",
       "799998  1999998  34.0  Female        45661.0         Single   \n",
       "799999  1999999  25.0    Male        24843.0       Divorced   \n",
       "\n",
       "        Number of Dependents Education Level     Occupation  Health Score  \\\n",
       "0                        4.0      Bachelor's  Self-Employed      7.657981   \n",
       "1                        2.0        Master's  Self-Employed     13.381379   \n",
       "2                        0.0             PhD     Unemployed     24.354527   \n",
       "3                        3.0             PhD  Self-Employed      5.136225   \n",
       "4                        2.0     High School     Unemployed     11.844155   \n",
       "...                      ...             ...            ...           ...   \n",
       "799995                   1.0      Bachelor's            NaN     14.498639   \n",
       "799996                   0.0        Master's            NaN      8.145748   \n",
       "799997                   0.0        Master's       Employed      6.636583   \n",
       "799998                   3.0        Master's            NaN     15.937248   \n",
       "799999                   3.0     High School            NaN     24.893939   \n",
       "\n",
       "        Location  ... Previous Claims  Vehicle Age  Credit Score  \\\n",
       "0          Rural  ...             NaN         19.0           NaN   \n",
       "1       Suburban  ...             NaN         14.0         372.0   \n",
       "2          Urban  ...             NaN         16.0         819.0   \n",
       "3       Suburban  ...             1.0          3.0         770.0   \n",
       "4       Suburban  ...             NaN         14.0         755.0   \n",
       "...          ...  ...             ...          ...           ...   \n",
       "799995     Rural  ...             NaN          8.0         309.0   \n",
       "799996     Rural  ...             2.0          0.0           NaN   \n",
       "799997     Urban  ...             NaN         10.0           NaN   \n",
       "799998     Urban  ...             2.0         17.0         467.0   \n",
       "799999  Suburban  ...             NaN         15.0           NaN   \n",
       "\n",
       "        Insurance Duration           Policy Start Date Customer Feedback  \\\n",
       "0                      1.0  2023-06-04 15:21:39.245086              Poor   \n",
       "1                      8.0  2024-04-22 15:21:39.224915              Good   \n",
       "2                      9.0  2023-04-05 15:21:39.134960           Average   \n",
       "3                      5.0  2023-10-25 15:21:39.134960              Poor   \n",
       "4                      7.0  2021-11-26 15:21:39.259788           Average   \n",
       "...                    ...                         ...               ...   \n",
       "799995                 2.0  2021-07-09 15:21:39.184157           Average   \n",
       "799996                 2.0  2023-03-28 15:21:39.250151              Good   \n",
       "799997                 6.0  2019-09-30 15:21:39.132191              Poor   \n",
       "799998                 7.0  2022-05-09 15:21:39.253660           Average   \n",
       "799999                 8.0  2021-05-18 15:21:39.108562              Good   \n",
       "\n",
       "       Smoking Status Exercise Frequency Property Type Dataset  \n",
       "0                 Yes             Weekly         House    test  \n",
       "1                 Yes             Rarely     Apartment    test  \n",
       "2                 Yes            Monthly         Condo    test  \n",
       "3                 Yes              Daily         House    test  \n",
       "4                  No             Weekly         House    test  \n",
       "...               ...                ...           ...     ...  \n",
       "799995            Yes              Daily         Condo    test  \n",
       "799996             No              Daily     Apartment    test  \n",
       "799997             No            Monthly     Apartment    test  \n",
       "799998             No             Weekly         Condo    test  \n",
       "799999             No             Rarely         House    test  \n",
       "\n",
       "[800000 rows x 21 columns]"
      ]
     },
     "execution_count": 7,
     "metadata": {},
     "output_type": "execute_result"
    }
   ],
   "source": [
    "test_data"
   ]
  },
  {
   "cell_type": "markdown",
   "id": "15f30a6f",
   "metadata": {
    "papermill": {
     "duration": 0.007763,
     "end_time": "2024-12-02T16:47:44.720877",
     "exception": false,
     "start_time": "2024-12-02T16:47:44.713114",
     "status": "completed"
    },
    "tags": []
   },
   "source": [
    "# 2: Data Preprocessing"
   ]
  },
  {
   "cell_type": "markdown",
   "id": "d41ed419",
   "metadata": {
    "papermill": {
     "duration": 0.007774,
     "end_time": "2024-12-02T16:47:44.737193",
     "exception": false,
     "start_time": "2024-12-02T16:47:44.729419",
     "status": "completed"
    },
    "tags": []
   },
   "source": [
    "## 2.1: Explore Missing Values"
   ]
  },
  {
   "cell_type": "code",
   "execution_count": 8,
   "id": "79046529",
   "metadata": {
    "execution": {
     "iopub.execute_input": "2024-12-02T16:47:44.755458Z",
     "iopub.status.busy": "2024-12-02T16:47:44.755012Z",
     "iopub.status.idle": "2024-12-02T16:47:44.780615Z",
     "shell.execute_reply": "2024-12-02T16:47:44.779373Z"
    },
    "papermill": {
     "duration": 0.037532,
     "end_time": "2024-12-02T16:47:44.782968",
     "exception": false,
     "start_time": "2024-12-02T16:47:44.745436",
     "status": "completed"
    },
    "tags": []
   },
   "outputs": [
    {
     "data": {
      "text/html": [
       "<div>\n",
       "<style scoped>\n",
       "    .dataframe tbody tr th:only-of-type {\n",
       "        vertical-align: middle;\n",
       "    }\n",
       "\n",
       "    .dataframe tbody tr th {\n",
       "        vertical-align: top;\n",
       "    }\n",
       "\n",
       "    .dataframe thead th {\n",
       "        text-align: right;\n",
       "    }\n",
       "</style>\n",
       "<table border=\"1\" class=\"dataframe\">\n",
       "  <thead>\n",
       "    <tr style=\"text-align: right;\">\n",
       "      <th></th>\n",
       "      <th>id</th>\n",
       "      <th>Age</th>\n",
       "      <th>Gender</th>\n",
       "      <th>Annual Income</th>\n",
       "      <th>Marital Status</th>\n",
       "      <th>Number of Dependents</th>\n",
       "      <th>Education Level</th>\n",
       "      <th>Occupation</th>\n",
       "      <th>Health Score</th>\n",
       "      <th>Location</th>\n",
       "      <th>Policy Type</th>\n",
       "      <th>Previous Claims</th>\n",
       "      <th>Vehicle Age</th>\n",
       "      <th>Credit Score</th>\n",
       "      <th>Insurance Duration</th>\n",
       "      <th>Policy Start Date</th>\n",
       "      <th>Customer Feedback</th>\n",
       "      <th>Smoking Status</th>\n",
       "      <th>Exercise Frequency</th>\n",
       "      <th>Property Type</th>\n",
       "      <th>Premium Amount</th>\n",
       "      <th>Dataset</th>\n",
       "    </tr>\n",
       "  </thead>\n",
       "  <tbody>\n",
       "    <tr>\n",
       "      <th>0</th>\n",
       "      <td>0</td>\n",
       "      <td>19.0</td>\n",
       "      <td>Female</td>\n",
       "      <td>10049.0</td>\n",
       "      <td>Married</td>\n",
       "      <td>1.0</td>\n",
       "      <td>Bachelor's</td>\n",
       "      <td>Self-Employed</td>\n",
       "      <td>22.598761</td>\n",
       "      <td>Urban</td>\n",
       "      <td>Premium</td>\n",
       "      <td>2.0</td>\n",
       "      <td>17.0</td>\n",
       "      <td>372.0</td>\n",
       "      <td>5.0</td>\n",
       "      <td>2023-12-23 15:21:39.134960</td>\n",
       "      <td>Poor</td>\n",
       "      <td>No</td>\n",
       "      <td>Weekly</td>\n",
       "      <td>House</td>\n",
       "      <td>2869.0</td>\n",
       "      <td>train</td>\n",
       "    </tr>\n",
       "    <tr>\n",
       "      <th>1</th>\n",
       "      <td>1</td>\n",
       "      <td>39.0</td>\n",
       "      <td>Female</td>\n",
       "      <td>31678.0</td>\n",
       "      <td>Divorced</td>\n",
       "      <td>3.0</td>\n",
       "      <td>Master's</td>\n",
       "      <td>NaN</td>\n",
       "      <td>15.569731</td>\n",
       "      <td>Rural</td>\n",
       "      <td>Comprehensive</td>\n",
       "      <td>1.0</td>\n",
       "      <td>12.0</td>\n",
       "      <td>694.0</td>\n",
       "      <td>2.0</td>\n",
       "      <td>2023-06-12 15:21:39.111551</td>\n",
       "      <td>Average</td>\n",
       "      <td>Yes</td>\n",
       "      <td>Monthly</td>\n",
       "      <td>House</td>\n",
       "      <td>1483.0</td>\n",
       "      <td>train</td>\n",
       "    </tr>\n",
       "    <tr>\n",
       "      <th>2</th>\n",
       "      <td>2</td>\n",
       "      <td>23.0</td>\n",
       "      <td>Male</td>\n",
       "      <td>25602.0</td>\n",
       "      <td>Divorced</td>\n",
       "      <td>3.0</td>\n",
       "      <td>High School</td>\n",
       "      <td>Self-Employed</td>\n",
       "      <td>47.177549</td>\n",
       "      <td>Suburban</td>\n",
       "      <td>Premium</td>\n",
       "      <td>1.0</td>\n",
       "      <td>14.0</td>\n",
       "      <td>NaN</td>\n",
       "      <td>3.0</td>\n",
       "      <td>2023-09-30 15:21:39.221386</td>\n",
       "      <td>Good</td>\n",
       "      <td>Yes</td>\n",
       "      <td>Weekly</td>\n",
       "      <td>House</td>\n",
       "      <td>567.0</td>\n",
       "      <td>train</td>\n",
       "    </tr>\n",
       "    <tr>\n",
       "      <th>3</th>\n",
       "      <td>3</td>\n",
       "      <td>21.0</td>\n",
       "      <td>Male</td>\n",
       "      <td>141855.0</td>\n",
       "      <td>Married</td>\n",
       "      <td>2.0</td>\n",
       "      <td>Bachelor's</td>\n",
       "      <td>NaN</td>\n",
       "      <td>10.938144</td>\n",
       "      <td>Rural</td>\n",
       "      <td>Basic</td>\n",
       "      <td>1.0</td>\n",
       "      <td>0.0</td>\n",
       "      <td>367.0</td>\n",
       "      <td>1.0</td>\n",
       "      <td>2024-06-12 15:21:39.226954</td>\n",
       "      <td>Poor</td>\n",
       "      <td>Yes</td>\n",
       "      <td>Daily</td>\n",
       "      <td>Apartment</td>\n",
       "      <td>765.0</td>\n",
       "      <td>train</td>\n",
       "    </tr>\n",
       "    <tr>\n",
       "      <th>4</th>\n",
       "      <td>4</td>\n",
       "      <td>21.0</td>\n",
       "      <td>Male</td>\n",
       "      <td>39651.0</td>\n",
       "      <td>Single</td>\n",
       "      <td>1.0</td>\n",
       "      <td>Bachelor's</td>\n",
       "      <td>Self-Employed</td>\n",
       "      <td>20.376094</td>\n",
       "      <td>Rural</td>\n",
       "      <td>Premium</td>\n",
       "      <td>0.0</td>\n",
       "      <td>8.0</td>\n",
       "      <td>598.0</td>\n",
       "      <td>4.0</td>\n",
       "      <td>2021-12-01 15:21:39.252145</td>\n",
       "      <td>Poor</td>\n",
       "      <td>Yes</td>\n",
       "      <td>Weekly</td>\n",
       "      <td>House</td>\n",
       "      <td>2022.0</td>\n",
       "      <td>train</td>\n",
       "    </tr>\n",
       "  </tbody>\n",
       "</table>\n",
       "</div>"
      ],
      "text/plain": [
       "   id   Age  Gender  Annual Income Marital Status  Number of Dependents  \\\n",
       "0   0  19.0  Female        10049.0        Married                   1.0   \n",
       "1   1  39.0  Female        31678.0       Divorced                   3.0   \n",
       "2   2  23.0    Male        25602.0       Divorced                   3.0   \n",
       "3   3  21.0    Male       141855.0        Married                   2.0   \n",
       "4   4  21.0    Male        39651.0         Single                   1.0   \n",
       "\n",
       "  Education Level     Occupation  Health Score  Location    Policy Type  \\\n",
       "0      Bachelor's  Self-Employed     22.598761     Urban        Premium   \n",
       "1        Master's            NaN     15.569731     Rural  Comprehensive   \n",
       "2     High School  Self-Employed     47.177549  Suburban        Premium   \n",
       "3      Bachelor's            NaN     10.938144     Rural          Basic   \n",
       "4      Bachelor's  Self-Employed     20.376094     Rural        Premium   \n",
       "\n",
       "   Previous Claims  Vehicle Age  Credit Score  Insurance Duration  \\\n",
       "0              2.0         17.0         372.0                 5.0   \n",
       "1              1.0         12.0         694.0                 2.0   \n",
       "2              1.0         14.0           NaN                 3.0   \n",
       "3              1.0          0.0         367.0                 1.0   \n",
       "4              0.0          8.0         598.0                 4.0   \n",
       "\n",
       "            Policy Start Date Customer Feedback Smoking Status  \\\n",
       "0  2023-12-23 15:21:39.134960              Poor             No   \n",
       "1  2023-06-12 15:21:39.111551           Average            Yes   \n",
       "2  2023-09-30 15:21:39.221386              Good            Yes   \n",
       "3  2024-06-12 15:21:39.226954              Poor            Yes   \n",
       "4  2021-12-01 15:21:39.252145              Poor            Yes   \n",
       "\n",
       "  Exercise Frequency Property Type  Premium Amount Dataset  \n",
       "0             Weekly         House          2869.0   train  \n",
       "1            Monthly         House          1483.0   train  \n",
       "2             Weekly         House           567.0   train  \n",
       "3              Daily     Apartment           765.0   train  \n",
       "4             Weekly         House          2022.0   train  "
      ]
     },
     "execution_count": 8,
     "metadata": {},
     "output_type": "execute_result"
    }
   ],
   "source": [
    "pd.set_option('display.max_columns', None)\n",
    "df.head()  # Display the first few rows with all columns"
   ]
  },
  {
   "cell_type": "code",
   "execution_count": 9,
   "id": "f227ce44",
   "metadata": {
    "execution": {
     "iopub.execute_input": "2024-12-02T16:47:44.802440Z",
     "iopub.status.busy": "2024-12-02T16:47:44.801996Z",
     "iopub.status.idle": "2024-12-02T16:47:45.269767Z",
     "shell.execute_reply": "2024-12-02T16:47:45.268619Z"
    },
    "papermill": {
     "duration": 0.480605,
     "end_time": "2024-12-02T16:47:45.272530",
     "exception": false,
     "start_time": "2024-12-02T16:47:44.791925",
     "status": "completed"
    },
    "tags": []
   },
   "outputs": [
    {
     "data": {
      "text/plain": [
       "id                           0\n",
       "Age                      12489\n",
       "Gender                       0\n",
       "Annual Income            29860\n",
       "Marital Status           12336\n",
       "Number of Dependents     73130\n",
       "Education Level              0\n",
       "Occupation              239125\n",
       "Health Score             49449\n",
       "Location                     0\n",
       "Policy Type                  0\n",
       "Previous Claims         242802\n",
       "Vehicle Age                  3\n",
       "Credit Score             91451\n",
       "Insurance Duration           2\n",
       "Policy Start Date            0\n",
       "Customer Feedback        52276\n",
       "Smoking Status               0\n",
       "Exercise Frequency           0\n",
       "Property Type                0\n",
       "Dataset                      0\n",
       "dtype: int64"
      ]
     },
     "execution_count": 9,
     "metadata": {},
     "output_type": "execute_result"
    }
   ],
   "source": [
    "test_data.isnull().sum()"
   ]
  },
  {
   "cell_type": "code",
   "execution_count": 10,
   "id": "e162e832",
   "metadata": {
    "execution": {
     "iopub.execute_input": "2024-12-02T16:47:45.293045Z",
     "iopub.status.busy": "2024-12-02T16:47:45.292585Z",
     "iopub.status.idle": "2024-12-02T16:47:46.447857Z",
     "shell.execute_reply": "2024-12-02T16:47:46.446360Z"
    },
    "papermill": {
     "duration": 1.168294,
     "end_time": "2024-12-02T16:47:46.450298",
     "exception": false,
     "start_time": "2024-12-02T16:47:45.282004",
     "status": "completed"
    },
    "tags": []
   },
   "outputs": [
    {
     "name": "stdout",
     "output_type": "stream",
     "text": [
      "Premium Amount          40.00000\n",
      "Previous Claims         30.34155\n",
      "Occupation              29.86000\n",
      "Credit Score            11.46665\n",
      "Number of Dependents     9.14010\n",
      "Customer Feedback        6.50500\n",
      "Health Score             6.17625\n",
      "Annual Income            3.74045\n",
      "Age                      1.55970\n",
      "Marital Status           1.54325\n",
      "Vehicle Age              0.00045\n",
      "Insurance Duration       0.00015\n",
      "Property Type            0.00000\n",
      "Exercise Frequency       0.00000\n",
      "Smoking Status           0.00000\n",
      "id                       0.00000\n",
      "Policy Start Date        0.00000\n",
      "Policy Type              0.00000\n",
      "Location                 0.00000\n",
      "Education Level          0.00000\n",
      "Gender                   0.00000\n",
      "Dataset                  0.00000\n",
      "dtype: float64\n"
     ]
    }
   ],
   "source": [
    "missing_percentage = (df.isnull().sum() / len(df)) * 100\n",
    "print(missing_percentage.sort_values(ascending=False))"
   ]
  },
  {
   "cell_type": "code",
   "execution_count": 11,
   "id": "fc0b06c7",
   "metadata": {
    "execution": {
     "iopub.execute_input": "2024-12-02T16:47:46.468805Z",
     "iopub.status.busy": "2024-12-02T16:47:46.468427Z",
     "iopub.status.idle": "2024-12-02T16:47:46.491433Z",
     "shell.execute_reply": "2024-12-02T16:47:46.490056Z"
    },
    "papermill": {
     "duration": 0.035262,
     "end_time": "2024-12-02T16:47:46.493938",
     "exception": false,
     "start_time": "2024-12-02T16:47:46.458676",
     "status": "completed"
    },
    "tags": []
   },
   "outputs": [
    {
     "name": "stdout",
     "output_type": "stream",
     "text": [
      "<class 'pandas.core.frame.DataFrame'>\n",
      "RangeIndex: 2000000 entries, 0 to 1999999\n",
      "Data columns (total 22 columns):\n",
      " #   Column                Dtype  \n",
      "---  ------                -----  \n",
      " 0   id                    int64  \n",
      " 1   Age                   float64\n",
      " 2   Gender                object \n",
      " 3   Annual Income         float64\n",
      " 4   Marital Status        object \n",
      " 5   Number of Dependents  float64\n",
      " 6   Education Level       object \n",
      " 7   Occupation            object \n",
      " 8   Health Score          float64\n",
      " 9   Location              object \n",
      " 10  Policy Type           object \n",
      " 11  Previous Claims       float64\n",
      " 12  Vehicle Age           float64\n",
      " 13  Credit Score          float64\n",
      " 14  Insurance Duration    float64\n",
      " 15  Policy Start Date     object \n",
      " 16  Customer Feedback     object \n",
      " 17  Smoking Status        object \n",
      " 18  Exercise Frequency    object \n",
      " 19  Property Type         object \n",
      " 20  Premium Amount        float64\n",
      " 21  Dataset               object \n",
      "dtypes: float64(9), int64(1), object(12)\n",
      "memory usage: 335.7+ MB\n"
     ]
    }
   ],
   "source": [
    "df.info()"
   ]
  },
  {
   "cell_type": "code",
   "execution_count": 12,
   "id": "a812fccf",
   "metadata": {
    "execution": {
     "iopub.execute_input": "2024-12-02T16:47:46.513747Z",
     "iopub.status.busy": "2024-12-02T16:47:46.512416Z",
     "iopub.status.idle": "2024-12-02T16:47:46.978681Z",
     "shell.execute_reply": "2024-12-02T16:47:46.977330Z"
    },
    "papermill": {
     "duration": 0.479247,
     "end_time": "2024-12-02T16:47:46.981646",
     "exception": false,
     "start_time": "2024-12-02T16:47:46.502399",
     "status": "completed"
    },
    "tags": []
   },
   "outputs": [
    {
     "name": "stdout",
     "output_type": "stream",
     "text": [
      "Numerical Columns:\n",
      "Index(['id', 'Age', 'Annual Income', 'Number of Dependents', 'Health Score',\n",
      "       'Previous Claims', 'Vehicle Age', 'Credit Score', 'Insurance Duration',\n",
      "       'Premium Amount'],\n",
      "      dtype='object')\n",
      "\n",
      "Categorical Columns:\n",
      "Index(['Gender', 'Marital Status', 'Education Level', 'Occupation', 'Location',\n",
      "       'Policy Type', 'Policy Start Date', 'Customer Feedback',\n",
      "       'Smoking Status', 'Exercise Frequency', 'Property Type', 'Dataset'],\n",
      "      dtype='object')\n"
     ]
    }
   ],
   "source": [
    "# Separate numerical and categorical columns\n",
    "numerical_columns = df.select_dtypes(include=['float64', 'int64']).columns\n",
    "categorical_columns = df.select_dtypes(include=['object']).columns\n",
    "\n",
    "# Display results\n",
    "print(\"Numerical Columns:\")\n",
    "print(numerical_columns)\n",
    "\n",
    "print(\"\\nCategorical Columns:\")\n",
    "print(categorical_columns)"
   ]
  },
  {
   "cell_type": "code",
   "execution_count": 13,
   "id": "a1287a22",
   "metadata": {
    "execution": {
     "iopub.execute_input": "2024-12-02T16:47:47.000709Z",
     "iopub.status.busy": "2024-12-02T16:47:47.000216Z",
     "iopub.status.idle": "2024-12-02T16:47:48.412110Z",
     "shell.execute_reply": "2024-12-02T16:47:48.410767Z"
    },
    "papermill": {
     "duration": 1.424471,
     "end_time": "2024-12-02T16:47:48.414816",
     "exception": false,
     "start_time": "2024-12-02T16:47:46.990345",
     "status": "completed"
    },
    "tags": []
   },
   "outputs": [],
   "source": [
    "# Handling missing values for numerical columns\n",
    "for column in numerical_columns:\n",
    "    # Replace missing values in numerical columns with the mean\n",
    "    df[column].fillna(df[column].mean(), inplace=True)\n",
    "\n",
    "# Handling missing values for categorical columns\n",
    "for column in categorical_columns:\n",
    "    # Replace missing values in categorical columns with 'no activity'\n",
    "    df[column].fillna('unknown', inplace=True)"
   ]
  },
  {
   "cell_type": "code",
   "execution_count": 14,
   "id": "6260acd5",
   "metadata": {
    "execution": {
     "iopub.execute_input": "2024-12-02T16:47:48.434019Z",
     "iopub.status.busy": "2024-12-02T16:47:48.433560Z",
     "iopub.status.idle": "2024-12-02T16:47:49.617008Z",
     "shell.execute_reply": "2024-12-02T16:47:49.615606Z"
    },
    "papermill": {
     "duration": 1.195971,
     "end_time": "2024-12-02T16:47:49.619460",
     "exception": false,
     "start_time": "2024-12-02T16:47:48.423489",
     "status": "completed"
    },
    "tags": []
   },
   "outputs": [
    {
     "data": {
      "text/plain": [
       "id                      0\n",
       "Age                     0\n",
       "Gender                  0\n",
       "Annual Income           0\n",
       "Marital Status          0\n",
       "Number of Dependents    0\n",
       "Education Level         0\n",
       "Occupation              0\n",
       "Health Score            0\n",
       "Location                0\n",
       "Policy Type             0\n",
       "Previous Claims         0\n",
       "Vehicle Age             0\n",
       "Credit Score            0\n",
       "Insurance Duration      0\n",
       "Policy Start Date       0\n",
       "Customer Feedback       0\n",
       "Smoking Status          0\n",
       "Exercise Frequency      0\n",
       "Property Type           0\n",
       "Premium Amount          0\n",
       "Dataset                 0\n",
       "dtype: int64"
      ]
     },
     "execution_count": 14,
     "metadata": {},
     "output_type": "execute_result"
    }
   ],
   "source": [
    "df.isnull().sum()"
   ]
  },
  {
   "cell_type": "markdown",
   "id": "874a426c",
   "metadata": {
    "papermill": {
     "duration": 0.008661,
     "end_time": "2024-12-02T16:47:49.637153",
     "exception": false,
     "start_time": "2024-12-02T16:47:49.628492",
     "status": "completed"
    },
    "tags": []
   },
   "source": [
    "## 2.2: Encoding"
   ]
  },
  {
   "cell_type": "code",
   "execution_count": 15,
   "id": "dc82673d",
   "metadata": {
    "execution": {
     "iopub.execute_input": "2024-12-02T16:47:49.657000Z",
     "iopub.status.busy": "2024-12-02T16:47:49.656563Z",
     "iopub.status.idle": "2024-12-02T16:47:49.663903Z",
     "shell.execute_reply": "2024-12-02T16:47:49.662764Z"
    },
    "papermill": {
     "duration": 0.019869,
     "end_time": "2024-12-02T16:47:49.666100",
     "exception": false,
     "start_time": "2024-12-02T16:47:49.646231",
     "status": "completed"
    },
    "tags": []
   },
   "outputs": [
    {
     "data": {
      "text/plain": [
       "Index(['Gender', 'Marital Status', 'Education Level', 'Occupation', 'Location',\n",
       "       'Policy Type', 'Policy Start Date', 'Customer Feedback',\n",
       "       'Smoking Status', 'Exercise Frequency', 'Property Type', 'Dataset'],\n",
       "      dtype='object')"
      ]
     },
     "execution_count": 15,
     "metadata": {},
     "output_type": "execute_result"
    }
   ],
   "source": [
    "categorical_columns"
   ]
  },
  {
   "cell_type": "code",
   "execution_count": 16,
   "id": "032be941",
   "metadata": {
    "execution": {
     "iopub.execute_input": "2024-12-02T16:47:49.686316Z",
     "iopub.status.busy": "2024-12-02T16:47:49.685860Z",
     "iopub.status.idle": "2024-12-02T16:47:51.157799Z",
     "shell.execute_reply": "2024-12-02T16:47:51.156659Z"
    },
    "papermill": {
     "duration": 1.484989,
     "end_time": "2024-12-02T16:47:51.160382",
     "exception": false,
     "start_time": "2024-12-02T16:47:49.675393",
     "status": "completed"
    },
    "tags": []
   },
   "outputs": [],
   "source": [
    "# Convert 'Policy Start Date' to datetime format\n",
    "df['Policy Start Date'] = pd.to_datetime(df['Policy Start Date'], errors='coerce')\n",
    "\n",
    "# # Extract meaningful features\n",
    "# df['Policy Start Year'] = df['Policy Start Date'].dt.year\n",
    "# df['Policy Start Month'] = df['Policy Start Date'].dt.month\n",
    "# df['Policy Start Day'] = df['Policy Start Date'].dt.day\n",
    "# df['Policy Start DayOfWeek'] = df['Policy Start Date'].dt.dayofweek\n",
    "# df['Policy Start IsWeekend'] = df['Policy Start Date'].dt.dayofweek >= 5\n",
    "\n",
    "# Extract features\n",
    "df['year'] = df['Policy Start Date'].dt.year\n",
    "df['month'] = df['Policy Start Date'].dt.month\n",
    "df['day'] = df['Policy Start Date'].dt.day\n",
    "# df['hour'] = df['Policy Start Date'].dt.hour\n",
    "df['dayofweek'] = df['Policy Start Date'].dt.dayofweek\n",
    "\n",
    "\n",
    "# # Create cyclical features for hour\n",
    "# df['hour_sin'] = np.sin(df['hour'] * (2 * np.pi / 24))\n",
    "# df['hour_cos'] = np.cos(df['hour'] * (2 * np.pi / 24))\n",
    "\n",
    "# Drop the original datetime column\n",
    "df.drop('Policy Start Date', axis=1, inplace=True)"
   ]
  },
  {
   "cell_type": "code",
   "execution_count": 17,
   "id": "2cafe215",
   "metadata": {
    "execution": {
     "iopub.execute_input": "2024-12-02T16:47:51.179858Z",
     "iopub.status.busy": "2024-12-02T16:47:51.179350Z",
     "iopub.status.idle": "2024-12-02T16:47:51.184781Z",
     "shell.execute_reply": "2024-12-02T16:47:51.183624Z"
    },
    "papermill": {
     "duration": 0.017605,
     "end_time": "2024-12-02T16:47:51.186743",
     "exception": false,
     "start_time": "2024-12-02T16:47:51.169138",
     "status": "completed"
    },
    "tags": []
   },
   "outputs": [],
   "source": [
    "# cat = ['Gender', 'Marital Status', 'Education Level', 'Occupation', 'Location',\n",
    "#        'Policy Type', 'Policy Start Date', 'Customer Feedback',\n",
    "#        'Smoking Status', 'Exercise Frequency', 'Property Type']"
   ]
  },
  {
   "cell_type": "code",
   "execution_count": 18,
   "id": "02fb4afd",
   "metadata": {
    "execution": {
     "iopub.execute_input": "2024-12-02T16:47:51.205853Z",
     "iopub.status.busy": "2024-12-02T16:47:51.205374Z",
     "iopub.status.idle": "2024-12-02T16:47:51.211015Z",
     "shell.execute_reply": "2024-12-02T16:47:51.209976Z"
    },
    "papermill": {
     "duration": 0.017926,
     "end_time": "2024-12-02T16:47:51.213331",
     "exception": false,
     "start_time": "2024-12-02T16:47:51.195405",
     "status": "completed"
    },
    "tags": []
   },
   "outputs": [],
   "source": [
    "cat = ['Gender', 'Marital Status', 'Education Level', 'Occupation', 'Location',\n",
    "       'Policy Type','Customer Feedback',\n",
    "       'Smoking Status', 'Exercise Frequency', 'Property Type']"
   ]
  },
  {
   "cell_type": "code",
   "execution_count": 19,
   "id": "77f3064b",
   "metadata": {
    "execution": {
     "iopub.execute_input": "2024-12-02T16:47:51.232827Z",
     "iopub.status.busy": "2024-12-02T16:47:51.232353Z",
     "iopub.status.idle": "2024-12-02T16:47:56.416030Z",
     "shell.execute_reply": "2024-12-02T16:47:56.414760Z"
    },
    "papermill": {
     "duration": 5.196632,
     "end_time": "2024-12-02T16:47:56.418572",
     "exception": false,
     "start_time": "2024-12-02T16:47:51.221940",
     "status": "completed"
    },
    "tags": []
   },
   "outputs": [],
   "source": [
    "# Convert categorical columns to integers (Label Encoding)\n",
    "from sklearn.preprocessing import LabelEncoder\n",
    "\n",
    "label_encoder = LabelEncoder()\n",
    "for col in cat:\n",
    "    df[col] = label_encoder.fit_transform(df[col])  # Apply LabelEncoder to each column"
   ]
  },
  {
   "cell_type": "markdown",
   "id": "d6675e9c",
   "metadata": {
    "papermill": {
     "duration": 0.009545,
     "end_time": "2024-12-02T16:47:56.438168",
     "exception": false,
     "start_time": "2024-12-02T16:47:56.428623",
     "status": "completed"
    },
    "tags": []
   },
   "source": [
    "## 2.3: Train-Test Split for Model Development"
   ]
  },
  {
   "cell_type": "code",
   "execution_count": 20,
   "id": "06ebbc48",
   "metadata": {
    "execution": {
     "iopub.execute_input": "2024-12-02T16:47:56.458566Z",
     "iopub.status.busy": "2024-12-02T16:47:56.457833Z",
     "iopub.status.idle": "2024-12-02T16:47:58.560025Z",
     "shell.execute_reply": "2024-12-02T16:47:58.558291Z"
    },
    "papermill": {
     "duration": 2.115273,
     "end_time": "2024-12-02T16:47:58.562621",
     "exception": false,
     "start_time": "2024-12-02T16:47:56.447348",
     "status": "completed"
    },
    "tags": []
   },
   "outputs": [
    {
     "name": "stdout",
     "output_type": "stream",
     "text": [
      "X_train shape: (960000, 22)\n",
      "X_test shape: (240000, 22)\n",
      "y_train shape: (960000,)\n",
      "y_test shape: (240000,)\n"
     ]
    }
   ],
   "source": [
    "from sklearn.model_selection import train_test_split\n",
    "\n",
    "# Split concatenated data back into train and test\n",
    "train_data = df[df['Dataset'] == 'train'].drop(columns=['Dataset', 'id'])\n",
    "test_data = df[df['Dataset'] == 'test'].drop(columns=['Dataset', 'Premium Amount'])\n",
    "\n",
    "\n",
    "# categorical_columns = train_data.select_dtypes(include=['object']).columns\n",
    "\n",
    "# Example: Assume 'target_column' is your target variable\n",
    "target_column = 'Premium Amount'  # Replace with the actual target column name\n",
    "X = train_data.drop(columns=[target_column])  # Features\n",
    "y = train_data[target_column]  # Target\n",
    "\n",
    "# # Reshape y to be 2D (required by TabNet)\n",
    "# y = y.values.reshape(-1, 1)\n",
    "\n",
    "\n",
    "# Split the data: 80% train, 20% test\n",
    "X_train, X_test, y_train, y_test = train_test_split(X, y, test_size=0.2, random_state=42)\n",
    "\n",
    "\n",
    "# Log transform the target variables to stabilize variance\n",
    "y_train = np.log1p(y_train)  # Log transform training target\n",
    "y_test = np.log1p(y_test)      # Log transform validation target\n",
    "\n",
    "\n",
    "# Display the shapes of the resulting splits\n",
    "print(\"X_train shape:\", X_train.shape)\n",
    "print(\"X_test shape:\", X_test.shape)\n",
    "print(\"y_train shape:\", y_train.shape)\n",
    "print(\"y_test shape:\", y_test.shape)"
   ]
  },
  {
   "cell_type": "markdown",
   "id": "1c8ef753",
   "metadata": {
    "papermill": {
     "duration": 0.008467,
     "end_time": "2024-12-02T16:47:58.579916",
     "exception": false,
     "start_time": "2024-12-02T16:47:58.571449",
     "status": "completed"
    },
    "tags": []
   },
   "source": [
    "# 3. Model Selection and Implementation"
   ]
  },
  {
   "cell_type": "markdown",
   "id": "4b42ed35",
   "metadata": {
    "execution": {
     "iopub.execute_input": "2024-12-02T14:38:31.316691Z",
     "iopub.status.busy": "2024-12-02T14:38:31.316126Z",
     "iopub.status.idle": "2024-12-02T15:34:53.704643Z",
     "shell.execute_reply": "2024-12-02T15:34:53.702672Z",
     "shell.execute_reply.started": "2024-12-02T14:38:31.316647Z"
    },
    "papermill": {
     "duration": 0.008639,
     "end_time": "2024-12-02T16:47:58.597634",
     "exception": false,
     "start_time": "2024-12-02T16:47:58.588995",
     "status": "completed"
    },
    "tags": []
   },
   "source": [
    "## CatBoost"
   ]
  },
  {
   "cell_type": "code",
   "execution_count": 21,
   "id": "0792b909",
   "metadata": {
    "execution": {
     "iopub.execute_input": "2024-12-02T16:47:58.617683Z",
     "iopub.status.busy": "2024-12-02T16:47:58.617204Z",
     "iopub.status.idle": "2024-12-02T16:47:58.622847Z",
     "shell.execute_reply": "2024-12-02T16:47:58.621594Z"
    },
    "papermill": {
     "duration": 0.018971,
     "end_time": "2024-12-02T16:47:58.625446",
     "exception": false,
     "start_time": "2024-12-02T16:47:58.606475",
     "status": "completed"
    },
    "tags": []
   },
   "outputs": [],
   "source": [
    "# import pandas as pd\n",
    "# from catboost import CatBoostRegressor, Pool\n",
    "# from sklearn.model_selection import train_test_split\n",
    "# from sklearn.metrics import mean_squared_error\n",
    "\n",
    "\n",
    "\n",
    "# # Initialize the CatBoost model\n",
    "# model = CatBoostRegressor(iterations=1000, depth=6, learning_rate=0.1, loss_function='RMSE', \n",
    "#         cat_features=['Gender', 'Marital Status', 'Education Level', 'Occupation', 'Location',\n",
    "#        'Policy Type', 'Policy Start Date', 'Customer Feedback',\n",
    "#        'Smoking Status', 'Exercise Frequency', 'Property Type'])\n",
    "\n",
    "# # Train the model\n",
    "# model.fit(X_train, y_train, eval_set=(X_test, y_test), verbose=100)\n",
    "\n",
    "\n",
    "# # Make predictions\n",
    "# y_pred = model.predict(X_test)\n",
    "\n",
    "# # Evaluate the model\n",
    "# rmse = mean_squared_error(y_test, y_pred, squared=False)\n",
    "# print(f\"RMSE: {rmse}\")"
   ]
  },
  {
   "cell_type": "code",
   "execution_count": 22,
   "id": "279b2c24",
   "metadata": {
    "execution": {
     "iopub.execute_input": "2024-12-02T16:47:58.645096Z",
     "iopub.status.busy": "2024-12-02T16:47:58.644642Z",
     "iopub.status.idle": "2024-12-02T17:08:39.061018Z",
     "shell.execute_reply": "2024-12-02T17:08:39.059446Z"
    },
    "papermill": {
     "duration": 1240.429028,
     "end_time": "2024-12-02T17:08:39.063440",
     "exception": false,
     "start_time": "2024-12-02T16:47:58.634412",
     "status": "completed"
    },
    "tags": []
   },
   "outputs": [
    {
     "name": "stdout",
     "output_type": "stream",
     "text": [
      "0:\tlearn: 1.0905630\ttest: 1.0913594\tbest: 1.0913594 (0)\ttotal: 2.03s\tremaining: 33m 51s\n",
      "100:\tlearn: 1.0494851\ttest: 1.0507161\tbest: 1.0507161 (100)\ttotal: 1m 54s\tremaining: 16m 56s\n",
      "200:\tlearn: 1.0476830\ttest: 1.0492887\tbest: 1.0492871 (188)\ttotal: 3m 47s\tremaining: 15m 6s\n",
      "300:\tlearn: 1.0469599\ttest: 1.0489363\tbest: 1.0489363 (300)\ttotal: 5m 48s\tremaining: 13m 29s\n",
      "400:\tlearn: 1.0463390\ttest: 1.0487149\tbest: 1.0487132 (398)\ttotal: 7m 56s\tremaining: 11m 51s\n",
      "500:\tlearn: 1.0457995\ttest: 1.0485582\tbest: 1.0485576 (499)\ttotal: 10m 2s\tremaining: 10m\n",
      "600:\tlearn: 1.0451843\ttest: 1.0483159\tbest: 1.0483144 (599)\ttotal: 12m 11s\tremaining: 8m 5s\n",
      "700:\tlearn: 1.0447072\ttest: 1.0482028\tbest: 1.0482028 (700)\ttotal: 14m 14s\tremaining: 6m 4s\n",
      "800:\tlearn: 1.0441854\ttest: 1.0481386\tbest: 1.0481386 (800)\ttotal: 16m 21s\tremaining: 4m 3s\n",
      "900:\tlearn: 1.0436705\ttest: 1.0480200\tbest: 1.0480197 (898)\ttotal: 18m 27s\tremaining: 2m 1s\n",
      "999:\tlearn: 1.0431969\ttest: 1.0479526\tbest: 1.0479510 (994)\ttotal: 20m 27s\tremaining: 0us\n",
      "\n",
      "bestTest = 1.047951028\n",
      "bestIteration = 994\n",
      "\n",
      "Shrink model to first 995 iterations.\n",
      "RMSE: 1.047951028841431\n"
     ]
    }
   ],
   "source": [
    "import pandas as pd\n",
    "from catboost import CatBoostRegressor, Pool\n",
    "from sklearn.model_selection import train_test_split\n",
    "from sklearn.metrics import mean_squared_error\n",
    "\n",
    "\n",
    "\n",
    "# Initialize the CatBoost model\n",
    "model = CatBoostRegressor(iterations=1000, depth=6, learning_rate=0.1, loss_function='RMSE', \n",
    "        cat_features=['Gender', 'Marital Status', 'Education Level', 'Occupation', 'Location',\n",
    "       'Policy Type', 'Customer Feedback', 'year', 'month', 'day', 'dayofweek',\n",
    "       'Smoking Status', 'Exercise Frequency', 'Property Type'])\n",
    "\n",
    "# Train the model\n",
    "model.fit(X_train, y_train, eval_set=(X_test, y_test), verbose=100)\n",
    "\n",
    "\n",
    "# Make predictions\n",
    "y_pred = model.predict(X_test)\n",
    "\n",
    "# Evaluate the model\n",
    "rmse = mean_squared_error(y_test, y_pred, squared=False)\n",
    "print(f\"RMSE: {rmse}\")"
   ]
  },
  {
   "cell_type": "markdown",
   "id": "047745d7",
   "metadata": {
    "papermill": {
     "duration": 0.00947,
     "end_time": "2024-12-02T17:08:39.082469",
     "exception": false,
     "start_time": "2024-12-02T17:08:39.072999",
     "status": "completed"
    },
    "tags": []
   },
   "source": [
    "# Submition "
   ]
  },
  {
   "cell_type": "code",
   "execution_count": 23,
   "id": "37f80e4c",
   "metadata": {
    "execution": {
     "iopub.execute_input": "2024-12-02T17:08:39.103149Z",
     "iopub.status.busy": "2024-12-02T17:08:39.102708Z",
     "iopub.status.idle": "2024-12-02T17:08:39.216661Z",
     "shell.execute_reply": "2024-12-02T17:08:39.215625Z"
    },
    "papermill": {
     "duration": 0.12734,
     "end_time": "2024-12-02T17:08:39.219190",
     "exception": false,
     "start_time": "2024-12-02T17:08:39.091850",
     "status": "completed"
    },
    "tags": []
   },
   "outputs": [],
   "source": [
    "# Preprocess test data\n",
    "test_features = test_data.drop(columns=['id'], errors='ignore')  # Drop unnecessary columns"
   ]
  },
  {
   "cell_type": "code",
   "execution_count": 24,
   "id": "8e7040b4",
   "metadata": {
    "execution": {
     "iopub.execute_input": "2024-12-02T17:08:39.240094Z",
     "iopub.status.busy": "2024-12-02T17:08:39.239730Z",
     "iopub.status.idle": "2024-12-02T17:08:46.750648Z",
     "shell.execute_reply": "2024-12-02T17:08:46.749403Z"
    },
    "papermill": {
     "duration": 7.524394,
     "end_time": "2024-12-02T17:08:46.753496",
     "exception": false,
     "start_time": "2024-12-02T17:08:39.229102",
     "status": "completed"
    },
    "tags": []
   },
   "outputs": [],
   "source": [
    "# Predict using the trained CatBoost model\n",
    "test_data['Premium Amount'] = model.predict(test_features)"
   ]
  },
  {
   "cell_type": "code",
   "execution_count": 25,
   "id": "ea99b942",
   "metadata": {
    "execution": {
     "iopub.execute_input": "2024-12-02T17:08:46.775186Z",
     "iopub.status.busy": "2024-12-02T17:08:46.774764Z",
     "iopub.status.idle": "2024-12-02T17:08:46.813172Z",
     "shell.execute_reply": "2024-12-02T17:08:46.811978Z"
    },
    "papermill": {
     "duration": 0.052797,
     "end_time": "2024-12-02T17:08:46.816246",
     "exception": false,
     "start_time": "2024-12-02T17:08:46.763449",
     "status": "completed"
    },
    "tags": []
   },
   "outputs": [],
   "source": [
    "# Reverse log transformation if applied during training\n",
    "test_data['Premium Amount'] = np.expm1(test_data['Premium Amount'])  # Use np.expm1 if np.log1p was used during training\n",
    "\n",
    "# Clip predictions to avoid negative values (optional)\n",
    "test_data['Premium Amount'] = test_data['Premium Amount'].clip(lower=0)"
   ]
  },
  {
   "cell_type": "code",
   "execution_count": 26,
   "id": "d18a01f2",
   "metadata": {
    "execution": {
     "iopub.execute_input": "2024-12-02T17:08:46.838141Z",
     "iopub.status.busy": "2024-12-02T17:08:46.837740Z",
     "iopub.status.idle": "2024-12-02T17:08:48.543653Z",
     "shell.execute_reply": "2024-12-02T17:08:48.542157Z"
    },
    "papermill": {
     "duration": 1.719995,
     "end_time": "2024-12-02T17:08:48.546635",
     "exception": false,
     "start_time": "2024-12-02T17:08:46.826640",
     "status": "completed"
    },
    "tags": []
   },
   "outputs": [
    {
     "name": "stdout",
     "output_type": "stream",
     "text": [
      "Submission file created: submission.csv\n"
     ]
    }
   ],
   "source": [
    "# Create submission file\n",
    "submission = test_data[['id', 'Premium Amount']]  # Include 'id' and the predicted target column\n",
    "submission.to_csv('submission.csv', index=False)\n",
    "\n",
    "print(\"Submission file created: submission.csv\")"
   ]
  },
  {
   "cell_type": "code",
   "execution_count": null,
   "id": "ac86b3ac",
   "metadata": {
    "papermill": {
     "duration": 0.009535,
     "end_time": "2024-12-02T17:08:48.566729",
     "exception": false,
     "start_time": "2024-12-02T17:08:48.557194",
     "status": "completed"
    },
    "tags": []
   },
   "outputs": [],
   "source": []
  }
 ],
 "metadata": {
  "kaggle": {
   "accelerator": "none",
   "dataSources": [
    {
     "databundleVersionId": 10305135,
     "sourceId": 84896,
     "sourceType": "competition"
    }
   ],
   "dockerImageVersionId": 30786,
   "isGpuEnabled": false,
   "isInternetEnabled": true,
   "language": "python",
   "sourceType": "notebook"
  },
  "kernelspec": {
   "display_name": "Python 3",
   "language": "python",
   "name": "python3"
  },
  "language_info": {
   "codemirror_mode": {
    "name": "ipython",
    "version": 3
   },
   "file_extension": ".py",
   "mimetype": "text/x-python",
   "name": "python",
   "nbconvert_exporter": "python",
   "pygments_lexer": "ipython3",
   "version": "3.10.14"
  },
  "papermill": {
   "default_parameters": {},
   "duration": 1287.456764,
   "end_time": "2024-12-02T17:08:50.004679",
   "environment_variables": {},
   "exception": null,
   "input_path": "__notebook__.ipynb",
   "output_path": "__notebook__.ipynb",
   "parameters": {},
   "start_time": "2024-12-02T16:47:22.547915",
   "version": "2.6.0"
  }
 },
 "nbformat": 4,
 "nbformat_minor": 5
}
